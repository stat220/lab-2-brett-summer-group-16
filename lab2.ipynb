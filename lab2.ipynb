{
 "cells": [
  {
   "cell_type": "code",
   "execution_count": 1,
   "metadata": {},
   "outputs": [],
   "source": [
    "import numpy as np\n",
    "import matplotlib.pyplot as plt\n",
    "import math\n",
    "import seaborn as sns\n",
    "import itertools"
   ]
  },
  {
   "cell_type": "code",
   "execution_count": 2,
   "metadata": {},
   "outputs": [],
   "source": [
    "def calc_mdn_pr_sum(m, n, x):\n",
    "  \"\"\"\n",
    "    Calculates the probability of rolling m dice, each with n sides, and having the sum of the dice\n",
    "    be greater than x.\n",
    "\n",
    "    Parameters:\n",
    "    - m (int): Number of dice.\n",
    "    - n (int): Number of sides on each die.\n",
    "    - x (int): Target value to be rolled or exceeded.\n",
    "\n",
    "    Returns:\n",
    "    - pr (float): The probability of at least one die rolling > x.\n",
    "  \"\"\"\n",
    "\n",
    "  if m > 4:\n",
    "    return \"m Too High\"\n",
    "  if n > 20:\n",
    "    return \"n Too High\"\n",
    "  if x > (m * n):\n",
    "    return 0\n",
    "  \n",
    "  # List out all possible rolls\n",
    "  rolls = list(itertools.product(range(1, n + 1), repeat=m))\n",
    "\n",
    "  # Find the sum of all possible rolls\n",
    "  sums = np.array([sum(roll) for roll in rolls])\n",
    "\n",
    "  # Find the proportion of those sums that are greater than the target\n",
    "  pr = np.sum(sums > x) / len(sums)\n",
    "\n",
    "  return pr\n"
   ]
  },
  {
   "cell_type": "code",
   "execution_count": 3,
   "metadata": {},
   "outputs": [],
   "source": [
    "def calc_mdn_pr(m, n, x):\n",
    "  \"\"\"\n",
    "    Calculates the probability of rolling m quantity of n-sided dice\n",
    "    and having at least one die show a value greater than or equal to x.\n",
    "\n",
    "    Parameters:\n",
    "    - m (int): Number of dice.\n",
    "    - n (int): Number of sides on each die.\n",
    "    - x (int): Target value to be rolled or exceeded.\n",
    "\n",
    "    Returns:\n",
    "    - pr (float): The probability of at least one die rolling >= x.\n",
    "  \"\"\"\n",
    "\n",
    "  if m > 4:\n",
    "      return \"Error: m Too High. Maximum is 4.\"\n",
    "  if n > 20:\n",
    "      return \"Error: n Too High. Maximum is 20.\"\n",
    "  if x > n:\n",
    "      return \"Error: Target value exceeds the maximum value of the dice.\"\n",
    "  if x < 1:\n",
    "      return \"Error: Target value must be at least 1.\"\n",
    "\n",
    "  # Calculate the chance that a single die roll fails to meet or exceed x\n",
    "  single_chance_fail = (x - 1) / n\n",
    "\n",
    "  # Calculate the chance that all m rolls fail\n",
    "  all_fail_chance = single_chance_fail ** m\n",
    "\n",
    "  # Probability that at least one roll is >= x\n",
    "  pr = 1 - all_fail_chance\n",
    "\n",
    "  return pr"
   ]
  },
  {
   "cell_type": "code",
   "execution_count": 4,
   "metadata": {},
   "outputs": [
    {
     "name": "stdout",
     "output_type": "stream",
     "text": [
      "Test 1: 0.15\n",
      "Test 2: 0.0625\n",
      "Test 3: 0.5177469135802468\n"
     ]
    }
   ],
   "source": [
    "test1 = calc_mdn_pr_sum(1, 20, 17)\n",
    "test2 = calc_mdn_pr_sum(3, 4, 10)\n",
    "test3 = calc_mdn_pr(4, 6, 6)\n",
    "print(f\"Test 1: {test1}\")\n",
    "print(f\"Test 2: {test2}\")\n",
    "print(f\"Test 3: {test3}\")"
   ]
  },
  {
   "cell_type": "markdown",
   "metadata": {},
   "source": [
    "\n",
    "\n",
    "---\n",
    "## **Honored Keeper of the Red Dragon Tavern,**\n",
    "\n",
    "  It was with great excitement that we received your missive, and we are pleased to offer our humble assistance to your band of adventurers. As purveyors of knowledge and staunch believers in empowering the brave souls who roam the land, we too believe that every hero should know the odds they face when standing against the world's growing perils.\n",
    "\n",
    "  In response to your urgent request, we have crafted two invaluable tools—arcane in their nature yet simple in their use—to guide your patrons in their endeavors. The first, known as \"calc_mdn_pr_sum,\" grants the power to calculate the probability of rolling m quantity of n-sided dice, ensuring the total exceeds a desired threshold. The second, \"calc_mdn_pr,\" calculates the odds that, out of m rolls of n-sided dice, at least one will yield a value equal to or greater than a chosen number.\n",
    "\n",
    "  However, it should be noted that these calculations do not account for any modifiers your adventurers may possess—whether magical, martial, or otherwise. The tools focus purely on the raw probabilities of the dice rolls themselves.\n",
    "\n",
    "  With these tools at their disposal, your adventurers shall gain keen insight into the chances that fate has in store for them, better prepared to face whatever dangers lie ahead.\n",
    "\n",
    "  May your tavern thrive, and may fortune favor your brave patrons.\n"
   ]
  }
 ],
 "metadata": {
  "kernelspec": {
   "display_name": "base",
   "language": "python",
   "name": "python3"
  },
  "language_info": {
   "codemirror_mode": {
    "name": "ipython",
    "version": 3
   },
   "file_extension": ".py",
   "mimetype": "text/x-python",
   "name": "python",
   "nbconvert_exporter": "python",
   "pygments_lexer": "ipython3",
   "version": "3.12.4"
  }
 },
 "nbformat": 4,
 "nbformat_minor": 2
}
